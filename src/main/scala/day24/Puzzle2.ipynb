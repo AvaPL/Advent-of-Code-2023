{
  "nbformat": 4,
  "nbformat_minor": 0,
  "metadata": {
    "colab": {
      "provenance": []
    },
    "kernelspec": {
      "name": "python3",
      "display_name": "Python 3"
    },
    "language_info": {
      "name": "python"
    }
  },
  "cells": [
    {
      "cell_type": "markdown",
      "source": [
        "Well, I'm dissapointed that it's not Scala.\n",
        "\n",
        "However, it's better to use tools appropriate to the problem and avoid reinventing the wheel, isn't it?\n",
        "\n",
        "`¯\\_(ツ)_/¯`"
      ],
      "metadata": {
        "id": "wCiB1Fel9GBK"
      }
    },
    {
      "cell_type": "code",
      "source": [
        "%pip install z3-solver"
      ],
      "metadata": {
        "colab": {
          "base_uri": "https://localhost:8080/"
        },
        "id": "_AyYBi-mCJD8",
        "outputId": "1b69ec17-afa2-4225-e268-4ccfd2ece6f6"
      },
      "execution_count": 1,
      "outputs": [
        {
          "output_type": "stream",
          "name": "stdout",
          "text": [
            "Collecting z3-solver\n",
            "  Downloading z3_solver-4.12.4.0-py2.py3-none-manylinux2014_x86_64.whl (56.7 MB)\n",
            "\u001b[2K     \u001b[90m━━━━━━━━━━━━━━━━━━━━━━━━━━━━━━━━━━━━━━━━\u001b[0m \u001b[32m56.7/56.7 MB\u001b[0m \u001b[31m8.9 MB/s\u001b[0m eta \u001b[36m0:00:00\u001b[0m\n",
            "\u001b[?25hInstalling collected packages: z3-solver\n",
            "Successfully installed z3-solver-4.12.4.0\n"
          ]
        }
      ]
    },
    {
      "cell_type": "code",
      "execution_count": 2,
      "metadata": {
        "colab": {
          "base_uri": "https://localhost:8080/"
        },
        "id": "1A_kAy8l1g_3",
        "outputId": "611345ea-02ab-453c-9b40-c9c94cf1d794"
      },
      "outputs": [
        {
          "output_type": "stream",
          "name": "stdout",
          "text": [
            "769840447420960\n"
          ]
        }
      ],
      "source": [
        "from z3 import *\n",
        "\n",
        "# Using the first 3 lines is enough to give the answer\n",
        "x01, y01, z01, v_x1, v_y1, v_z1 = 181562673221791, 338272173381384, 367757712264029, 54, -10, -10\n",
        "x02, y02, z02, v_x2, v_y2, v_z2 = 206315329209944, 245384073975106, 327941392745372, 55, 100, 14\n",
        "x03, y03, z03, v_x3, v_y3, v_z3 = 197625997051112, 364791147875511, 421084289548856, 13, -27, -52\n",
        "\n",
        "v_xr, v_yr, v_zr, x_0r, y_0r, z_0r = Ints('v_xr v_yr v_zr x_0r y_0r z_0r')\n",
        "t_1, t_2, t_3 = Ints('t_1 t_2 t_3')\n",
        "\n",
        "solver = Solver()\n",
        "solver.add(v_x1 * t_1 + x01 == v_xr * t_1 + x_0r)\n",
        "solver.add(v_y1 * t_1 + y01 == v_yr * t_1 + y_0r)\n",
        "solver.add(v_z1 * t_1 + z01 == v_zr * t_1 + z_0r)\n",
        "solver.add(v_x2 * t_2 + x02 == v_xr * t_2 + x_0r)\n",
        "solver.add(v_y2 * t_2 + y02 == v_yr * t_2 + y_0r)\n",
        "solver.add(v_z2 * t_2 + z02 == v_zr * t_2 + z_0r)\n",
        "solver.add(v_x3 * t_3 + x03 == v_xr * t_3 + x_0r)\n",
        "solver.add(v_y3 * t_3 + y03 == v_yr * t_3 + y_0r)\n",
        "solver.add(v_z3 * t_3 + z03 == v_zr * t_3 + z_0r)\n",
        "solver.check()\n",
        "\n",
        "model = solver.model()\n",
        "x_0r = model[x_0r].as_long()\n",
        "y_0r = model[y_0r].as_long()\n",
        "z_0r = model[z_0r].as_long()\n",
        "\n",
        "print(f\"{x_0r + y_0r + z_0r}\")"
      ]
    }
  ]
}